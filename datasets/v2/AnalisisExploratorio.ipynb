{
 "cells": [
  {
   "cell_type": "markdown",
   "metadata": {},
   "source": [
    "### ANALISIS EXPLORATORIO "
   ]
  },
  {
   "cell_type": "code",
   "execution_count": 2,
   "metadata": {},
   "outputs": [],
   "source": [
    "import pandas as pd \n",
    "import numpy as np "
   ]
  },
  {
   "cell_type": "markdown",
   "metadata": {},
   "source": [
    "Aceites"
   ]
  },
  {
   "cell_type": "code",
   "execution_count": 3,
   "metadata": {},
   "outputs": [
    {
     "data": {
      "text/plain": [
       "(42, 32)"
      ]
     },
     "execution_count": 3,
     "metadata": {},
     "output_type": "execute_result"
    }
   ],
   "source": [
    "df_Aceites = pd.read_csv(\"Aceites.csv\")\n",
    "df_Aceites.shape"
   ]
  },
  {
   "cell_type": "code",
   "execution_count": 5,
   "metadata": {},
   "outputs": [
    {
     "name": "stdout",
     "output_type": "stream",
     "text": [
      "<class 'pandas.core.frame.DataFrame'>\n",
      "RangeIndex: 42 entries, 0 to 41\n",
      "Data columns (total 32 columns):\n",
      " #   Column                              Non-Null Count  Dtype  \n",
      "---  ------                              --------------  -----  \n",
      " 0   SKU                                 42 non-null     int64  \n",
      " 1   1er trimestre  ( 2015 ) - Cantidad  29 non-null     object \n",
      " 2   2º trimestre  ( 2015 ) - Cantidad   23 non-null     object \n",
      " 3   3er trimestre  ( 2015 ) - Cantidad  25 non-null     object \n",
      " 4   4º trimestre  ( 2015 ) - Cantidad   27 non-null     object \n",
      " 5   1er trimestre  ( 2016 ) - Cantidad  25 non-null     object \n",
      " 6   2º trimestre  ( 2016 ) - Cantidad   26 non-null     object \n",
      " 7   3er trimestre  ( 2016 ) - Cantidad  31 non-null     object \n",
      " 8   4º trimestre  ( 2016 ) - Cantidad   28 non-null     object \n",
      " 9   1er trimestre  ( 2017 ) - Cantidad  28 non-null     object \n",
      " 10  2º trimestre  ( 2017 ) - Cantidad   25 non-null     float64\n",
      " 11  3er trimestre  ( 2017 ) - Cantidad  27 non-null     object \n",
      " 12  4º trimestre  ( 2017 ) - Cantidad   26 non-null     object \n",
      " 13  1er trimestre  ( 2018 ) - Cantidad  29 non-null     object \n",
      " 14  2º trimestre  ( 2018 ) - Cantidad   26 non-null     object \n",
      " 15  3er trimestre  ( 2018 ) - Cantidad  32 non-null     object \n",
      " 16  4º trimestre  ( 2018 ) - Cantidad   34 non-null     object \n",
      " 17  1er trimestre  ( 2019 ) - Cantidad  33 non-null     object \n",
      " 18  2º trimestre  ( 2019 ) - Cantidad   31 non-null     object \n",
      " 19  3er trimestre  ( 2019 ) - Cantidad  28 non-null     object \n",
      " 20  4º trimestre  ( 2019 ) - Cantidad   30 non-null     object \n",
      " 21  1er trimestre  ( 2020 ) - Cantidad  30 non-null     object \n",
      " 22  2º trimestre  ( 2020 ) - Cantidad   33 non-null     float64\n",
      " 23  3er trimestre  ( 2020 ) - Cantidad  31 non-null     object \n",
      " 24  4º trimestre  ( 2020 ) - Cantidad   35 non-null     float64\n",
      " 25  1er trimestre  ( 2021 ) - Cantidad  33 non-null     object \n",
      " 26  2º trimestre  ( 2021 ) - Cantidad   31 non-null     float64\n",
      " 27  3er trimestre  ( 2021 ) - Cantidad  33 non-null     object \n",
      " 28  4º trimestre  ( 2021 ) - Cantidad   33 non-null     object \n",
      " 29  1er trimestre  ( 2022 ) - Cantidad  30 non-null     object \n",
      " 30  2º trimestre  ( 2022 ) - Cantidad   30 non-null     object \n",
      " 31  3er trimestre  ( 2022 ) - Cantidad  29 non-null     object \n",
      "dtypes: float64(4), int64(1), object(27)\n",
      "memory usage: 10.6+ KB\n"
     ]
    }
   ],
   "source": [
    "df_Aceites.info()"
   ]
  },
  {
   "cell_type": "code",
   "execution_count": 7,
   "metadata": {},
   "outputs": [
    {
     "data": {
      "text/html": [
       "<div>\n",
       "<style scoped>\n",
       "    .dataframe tbody tr th:only-of-type {\n",
       "        vertical-align: middle;\n",
       "    }\n",
       "\n",
       "    .dataframe tbody tr th {\n",
       "        vertical-align: top;\n",
       "    }\n",
       "\n",
       "    .dataframe thead th {\n",
       "        text-align: right;\n",
       "    }\n",
       "</style>\n",
       "<table border=\"1\" class=\"dataframe\">\n",
       "  <thead>\n",
       "    <tr style=\"text-align: right;\">\n",
       "      <th></th>\n",
       "      <th>SKU</th>\n",
       "      <th>2º trimestre  ( 2017 ) - Cantidad</th>\n",
       "      <th>2º trimestre  ( 2020 ) - Cantidad</th>\n",
       "      <th>4º trimestre  ( 2020 ) - Cantidad</th>\n",
       "      <th>2º trimestre  ( 2021 ) - Cantidad</th>\n",
       "    </tr>\n",
       "  </thead>\n",
       "  <tbody>\n",
       "    <tr>\n",
       "      <th>count</th>\n",
       "      <td>4.200000e+01</td>\n",
       "      <td>25.000000</td>\n",
       "      <td>33.000000</td>\n",
       "      <td>35.000000</td>\n",
       "      <td>31.000000</td>\n",
       "    </tr>\n",
       "    <tr>\n",
       "      <th>mean</th>\n",
       "      <td>1.201472e+06</td>\n",
       "      <td>136.560000</td>\n",
       "      <td>88.515152</td>\n",
       "      <td>58.657143</td>\n",
       "      <td>108.967742</td>\n",
       "    </tr>\n",
       "    <tr>\n",
       "      <th>std</th>\n",
       "      <td>2.363880e+05</td>\n",
       "      <td>250.432805</td>\n",
       "      <td>175.465296</td>\n",
       "      <td>112.101829</td>\n",
       "      <td>142.822847</td>\n",
       "    </tr>\n",
       "    <tr>\n",
       "      <th>min</th>\n",
       "      <td>4.180100e+04</td>\n",
       "      <td>1.000000</td>\n",
       "      <td>1.000000</td>\n",
       "      <td>1.000000</td>\n",
       "      <td>1.000000</td>\n",
       "    </tr>\n",
       "    <tr>\n",
       "      <th>25%</th>\n",
       "      <td>1.270038e+06</td>\n",
       "      <td>4.000000</td>\n",
       "      <td>5.000000</td>\n",
       "      <td>6.000000</td>\n",
       "      <td>17.500000</td>\n",
       "    </tr>\n",
       "    <tr>\n",
       "      <th>50%</th>\n",
       "      <td>1.293680e+06</td>\n",
       "      <td>16.000000</td>\n",
       "      <td>22.000000</td>\n",
       "      <td>23.000000</td>\n",
       "      <td>45.000000</td>\n",
       "    </tr>\n",
       "    <tr>\n",
       "      <th>75%</th>\n",
       "      <td>1.300030e+06</td>\n",
       "      <td>170.000000</td>\n",
       "      <td>107.000000</td>\n",
       "      <td>60.500000</td>\n",
       "      <td>138.500000</td>\n",
       "    </tr>\n",
       "    <tr>\n",
       "      <th>max</th>\n",
       "      <td>1.300060e+06</td>\n",
       "      <td>999.000000</td>\n",
       "      <td>947.000000</td>\n",
       "      <td>610.000000</td>\n",
       "      <td>568.000000</td>\n",
       "    </tr>\n",
       "  </tbody>\n",
       "</table>\n",
       "</div>"
      ],
      "text/plain": [
       "                SKU  2º trimestre  ( 2017 ) - Cantidad  \\\n",
       "count  4.200000e+01                          25.000000   \n",
       "mean   1.201472e+06                         136.560000   \n",
       "std    2.363880e+05                         250.432805   \n",
       "min    4.180100e+04                           1.000000   \n",
       "25%    1.270038e+06                           4.000000   \n",
       "50%    1.293680e+06                          16.000000   \n",
       "75%    1.300030e+06                         170.000000   \n",
       "max    1.300060e+06                         999.000000   \n",
       "\n",
       "       2º trimestre  ( 2020 ) - Cantidad  4º trimestre  ( 2020 ) - Cantidad  \\\n",
       "count                          33.000000                          35.000000   \n",
       "mean                           88.515152                          58.657143   \n",
       "std                           175.465296                         112.101829   \n",
       "min                             1.000000                           1.000000   \n",
       "25%                             5.000000                           6.000000   \n",
       "50%                            22.000000                          23.000000   \n",
       "75%                           107.000000                          60.500000   \n",
       "max                           947.000000                         610.000000   \n",
       "\n",
       "       2º trimestre  ( 2021 ) - Cantidad  \n",
       "count                          31.000000  \n",
       "mean                          108.967742  \n",
       "std                           142.822847  \n",
       "min                             1.000000  \n",
       "25%                            17.500000  \n",
       "50%                            45.000000  \n",
       "75%                           138.500000  \n",
       "max                           568.000000  "
      ]
     },
     "execution_count": 7,
     "metadata": {},
     "output_type": "execute_result"
    }
   ],
   "source": [
    "df_Aceites.describe()"
   ]
  }
 ],
 "metadata": {
  "kernelspec": {
   "display_name": "Python 3",
   "language": "python",
   "name": "python3"
  },
  "language_info": {
   "codemirror_mode": {
    "name": "ipython",
    "version": 3
   },
   "file_extension": ".py",
   "mimetype": "text/x-python",
   "name": "python",
   "nbconvert_exporter": "python",
   "pygments_lexer": "ipython3",
   "version": "3.8.5"
  }
 },
 "nbformat": 4,
 "nbformat_minor": 4
}
