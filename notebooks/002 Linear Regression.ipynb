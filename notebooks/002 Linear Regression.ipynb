{
 "cells": [
  {
   "cell_type": "markdown",
   "id": "8c74d953",
   "metadata": {},
   "source": [
    "Simple Linear Regression"
   ]
  },
  {
   "cell_type": "code",
   "execution_count": 1,
   "id": "00493f8c",
   "metadata": {},
   "outputs": [],
   "source": [
    "import pandas as pd\n",
    "import numpy as np\n",
    "import matplotlib.pyplot as plt\n",
    "from matplotlib import pyplot as plt \n",
    "import seaborn as sns \n",
    "import statsmodels.api as sm \n",
    "from sklearn.model_selection import train_test_split\n",
    "from sklearn.metrics import r2_score,mean_squared_error"
   ]
  },
  {
   "cell_type": "code",
   "execution_count": 2,
   "id": "d436a848",
   "metadata": {},
   "outputs": [
    {
     "ename": "SyntaxError",
     "evalue": "(unicode error) 'unicodeescape' codec can't decode bytes in position 2-3: truncated \\UXXXXXXXX escape (3581036634.py, line 1)",
     "output_type": "error",
     "traceback": [
      "\u001b[1;36m  Input \u001b[1;32mIn [2]\u001b[1;36m\u001b[0m\n\u001b[1;33m    df = pd.read_csv('C:\\Users\\Carlos.Chew\\OneDrive - Lewonski\\UVG\\thesis\\datasets\\002SR.csv')\u001b[0m\n\u001b[1;37m                                                                                             ^\u001b[0m\n\u001b[1;31mSyntaxError\u001b[0m\u001b[1;31m:\u001b[0m (unicode error) 'unicodeescape' codec can't decode bytes in position 2-3: truncated \\UXXXXXXXX escape\n"
     ]
    }
   ],
   "source": [
    "df = pd.read_csv('C:\\Users\\Carlos.Chew\\OneDrive - Lewonski\\UVG\\thesis\\datasets\\002SR.csv')"
   ]
  },
  {
   "cell_type": "code",
   "execution_count": null,
   "id": "9ecf5324",
   "metadata": {},
   "outputs": [],
   "source": [
    "df.head()"
   ]
  },
  {
   "cell_type": "code",
   "execution_count": null,
   "id": "42f6e958",
   "metadata": {},
   "outputs": [],
   "source": [
    "df.info()"
   ]
  },
  {
   "cell_type": "code",
   "execution_count": null,
   "id": "997058f1",
   "metadata": {},
   "outputs": [],
   "source": [
    "viz = sns.heatmap(df[['Compras','Ventas']].corr(),annot=True)"
   ]
  },
  {
   "cell_type": "code",
   "execution_count": null,
   "id": "8cb9e427",
   "metadata": {},
   "outputs": [],
   "source": [
    "x = sm.add_constant(df['Compras'])\n",
    "y = df['Ventas']\n",
    "print(x.shape)\n",
    "print(y.shape)\n",
    "x"
   ]
  },
  {
   "cell_type": "code",
   "execution_count": null,
   "id": "e55bcaca",
   "metadata": {},
   "outputs": [],
   "source": [
    "#Split data Train y Test\n",
    "x_train,x_test,y_train,y_test = train_test_split(x,y,train_size=0.80,test_size=0.20,random_state=100)\n",
    "print(x_train.shape)\n",
    "print(x_test.shape)\n",
    "print(y_train.shape)\n",
    "print(y_test.shape)"
   ]
  },
  {
   "cell_type": "code",
   "execution_count": null,
   "id": "9c9b5c5d",
   "metadata": {},
   "outputs": [],
   "source": [
    "compra_venta = sm.OLS(y_train,x_train).fit()"
   ]
  },
  {
   "cell_type": "code",
   "execution_count": null,
   "id": "6d05d781",
   "metadata": {},
   "outputs": [],
   "source": [
    "print(compra_venta.params)"
   ]
  },
  {
   "cell_type": "code",
   "execution_count": null,
   "id": "c48109e7",
   "metadata": {},
   "outputs": [],
   "source": [
    "compra_venta.summary2()"
   ]
  },
  {
   "cell_type": "code",
   "execution_count": null,
   "id": "d96c7342",
   "metadata": {},
   "outputs": [],
   "source": [
    "y_pred_test = compra_venta.predict(x_test)\n",
    "y_pred_train = compra_venta.predict(x_train)"
   ]
  },
  {
   "cell_type": "code",
   "execution_count": null,
   "id": "53c95515",
   "metadata": {},
   "outputs": [],
   "source": [
    "np.abs(r2_score(y_train,y_pred_train))"
   ]
  },
  {
   "cell_type": "code",
   "execution_count": null,
   "id": "6136ee59",
   "metadata": {},
   "outputs": [],
   "source": [
    "np.sqrt(mean_squared_error(y_train,y_pred_train))"
   ]
  },
  {
   "cell_type": "code",
   "execution_count": null,
   "id": "f7f78097",
   "metadata": {},
   "outputs": [],
   "source": [
    "plt.figure(figsize=(15,10))\n",
    "plt.scatter(y_train,y_pred_train,c='blue')\n",
    "plt.plot([y_train.min(),y_train.max()],[y_train.min(),y_train.max()],'k--',c='red',lw=3)\n",
    "plt.xlabel('Actual')\n",
    "plt.ylabel('Predicted')"
   ]
  },
  {
   "cell_type": "code",
   "execution_count": null,
   "id": "9c35859d",
   "metadata": {},
   "outputs": [],
   "source": [
    "pred_y_df = pd.DataFrame({'Actual Value':y_train, 'Predicted Value':y_pred_train, 'Difference': y_train-y_pred_train})\n",
    "pred_y_df[0:25]"
   ]
  }
 ],
 "metadata": {
  "kernelspec": {
   "display_name": "Python 3 (ipykernel)",
   "language": "python",
   "name": "python3"
  },
  "language_info": {
   "codemirror_mode": {
    "name": "ipython",
    "version": 3
   },
   "file_extension": ".py",
   "mimetype": "text/x-python",
   "name": "python",
   "nbconvert_exporter": "python",
   "pygments_lexer": "ipython3",
   "version": "3.9.12"
  }
 },
 "nbformat": 4,
 "nbformat_minor": 5
}
