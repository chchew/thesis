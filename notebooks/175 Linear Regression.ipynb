{
 "cells": [
  {
   "cell_type": "markdown",
   "id": "e0998c24",
   "metadata": {},
   "source": [
    "Simple Linear Regression"
   ]
  },
  {
   "cell_type": "code",
   "execution_count": 15,
   "id": "ab11e0a4",
   "metadata": {},
   "outputs": [],
   "source": [
    "import pandas as pd\n",
    "import numpy as np\n",
    "import matplotlib.pyplot as plt\n",
    "from matplotlib import pyplot as plt \n",
    "import seaborn as sns \n",
    "import statsmodels.api as sm \n",
    "from sklearn.model_selection import train_test_split\n",
    "from sklearn.metrics import r2_score,mean_squared_error"
   ]
  },
  {
   "cell_type": "code",
   "execution_count": 2,
   "id": "921c14d4",
   "metadata": {},
   "outputs": [],
   "source": [
    "df = pd.read_csv('/Users/wech/Library/CloudStorage/OneDrive-UniversidaddelValledeGuatemala/UVG/12VO/Graduación/thesis/datasets/175SR.csv')"
   ]
  },
  {
   "cell_type": "code",
   "execution_count": 3,
   "id": "52e33e57",
   "metadata": {},
   "outputs": [
    {
     "data": {
      "text/html": [
       "<div>\n",
       "<style scoped>\n",
       "    .dataframe tbody tr th:only-of-type {\n",
       "        vertical-align: middle;\n",
       "    }\n",
       "\n",
       "    .dataframe tbody tr th {\n",
       "        vertical-align: top;\n",
       "    }\n",
       "\n",
       "    .dataframe thead th {\n",
       "        text-align: right;\n",
       "    }\n",
       "</style>\n",
       "<table border=\"1\" class=\"dataframe\">\n",
       "  <thead>\n",
       "    <tr style=\"text-align: right;\">\n",
       "      <th></th>\n",
       "      <th>Compras</th>\n",
       "      <th>Ventas</th>\n",
       "    </tr>\n",
       "  </thead>\n",
       "  <tbody>\n",
       "    <tr>\n",
       "      <th>0</th>\n",
       "      <td>435.0</td>\n",
       "      <td>398.0</td>\n",
       "    </tr>\n",
       "    <tr>\n",
       "      <th>1</th>\n",
       "      <td>803.0</td>\n",
       "      <td>703.0</td>\n",
       "    </tr>\n",
       "    <tr>\n",
       "      <th>2</th>\n",
       "      <td>785.0</td>\n",
       "      <td>674.0</td>\n",
       "    </tr>\n",
       "    <tr>\n",
       "      <th>3</th>\n",
       "      <td>112.0</td>\n",
       "      <td>102.0</td>\n",
       "    </tr>\n",
       "    <tr>\n",
       "      <th>4</th>\n",
       "      <td>530.0</td>\n",
       "      <td>450.0</td>\n",
       "    </tr>\n",
       "  </tbody>\n",
       "</table>\n",
       "</div>"
      ],
      "text/plain": [
       "   Compras  Ventas\n",
       "0    435.0   398.0\n",
       "1    803.0   703.0\n",
       "2    785.0   674.0\n",
       "3    112.0   102.0\n",
       "4    530.0   450.0"
      ]
     },
     "execution_count": 3,
     "metadata": {},
     "output_type": "execute_result"
    }
   ],
   "source": [
    "df.head()"
   ]
  },
  {
   "cell_type": "code",
   "execution_count": 4,
   "id": "4a1962cc",
   "metadata": {},
   "outputs": [
    {
     "name": "stdout",
     "output_type": "stream",
     "text": [
      "<class 'pandas.core.frame.DataFrame'>\n",
      "RangeIndex: 3640 entries, 0 to 3639\n",
      "Data columns (total 2 columns):\n",
      " #   Column   Non-Null Count  Dtype  \n",
      "---  ------   --------------  -----  \n",
      " 0   Compras  3640 non-null   float64\n",
      " 1   Ventas   3640 non-null   float64\n",
      "dtypes: float64(2)\n",
      "memory usage: 57.0 KB\n"
     ]
    }
   ],
   "source": [
    "df.info()"
   ]
  },
  {
   "cell_type": "code",
   "execution_count": 5,
   "id": "de9382a0",
   "metadata": {},
   "outputs": [
    {
     "data": {
      "image/png": "[encoded data removed]",
      "text/plain": [
       "<Figure size 432x288 with 2 Axes>"
      ]
     },
     "metadata": {
      "needs_background": "light"
     },
     "output_type": "display_data"
    }
   ],
   "source": [
    "viz = sns.heatmap(df[['Compras','Ventas']].corr(),annot=True)"
   ]
  },
  {
   "cell_type": "code",
   "execution_count": 6,
   "id": "57047b4d",
   "metadata": {},
   "outputs": [
    {
     "name": "stdout",
     "output_type": "stream",
     "text": [
      "(3640, 2)\n",
      "(3640,)\n"
     ]
    },
    {
     "data": {
      "text/html": [
       "<div>\n",
       "<style scoped>\n",
       "    .dataframe tbody tr th:only-of-type {\n",
       "        vertical-align: middle;\n",
       "    }\n",
       "\n",
       "    .dataframe tbody tr th {\n",
       "        vertical-align: top;\n",
       "    }\n",
       "\n",
       "    .dataframe thead th {\n",
       "        text-align: right;\n",
       "    }\n",
       "</style>\n",
       "<table border=\"1\" class=\"dataframe\">\n",
       "  <thead>\n",
       "    <tr style=\"text-align: right;\">\n",
       "      <th></th>\n",
       "      <th>const</th>\n",
       "      <th>Compras</th>\n",
       "    </tr>\n",
       "  </thead>\n",
       "  <tbody>\n",
       "    <tr>\n",
       "      <th>0</th>\n",
       "      <td>1.0</td>\n",
       "      <td>435.0</td>\n",
       "    </tr>\n",
       "    <tr>\n",
       "      <th>1</th>\n",
       "      <td>1.0</td>\n",
       "      <td>803.0</td>\n",
       "    </tr>\n",
       "    <tr>\n",
       "      <th>2</th>\n",
       "      <td>1.0</td>\n",
       "      <td>785.0</td>\n",
       "    </tr>\n",
       "    <tr>\n",
       "      <th>3</th>\n",
       "      <td>1.0</td>\n",
       "      <td>112.0</td>\n",
       "    </tr>\n",
       "    <tr>\n",
       "      <th>4</th>\n",
       "      <td>1.0</td>\n",
       "      <td>530.0</td>\n",
       "    </tr>\n",
       "    <tr>\n",
       "      <th>...</th>\n",
       "      <td>...</td>\n",
       "      <td>...</td>\n",
       "    </tr>\n",
       "    <tr>\n",
       "      <th>3635</th>\n",
       "      <td>1.0</td>\n",
       "      <td>2493.0</td>\n",
       "    </tr>\n",
       "    <tr>\n",
       "      <th>3636</th>\n",
       "      <td>1.0</td>\n",
       "      <td>1.0</td>\n",
       "    </tr>\n",
       "    <tr>\n",
       "      <th>3637</th>\n",
       "      <td>1.0</td>\n",
       "      <td>46.0</td>\n",
       "    </tr>\n",
       "    <tr>\n",
       "      <th>3638</th>\n",
       "      <td>1.0</td>\n",
       "      <td>55.0</td>\n",
       "    </tr>\n",
       "    <tr>\n",
       "      <th>3639</th>\n",
       "      <td>1.0</td>\n",
       "      <td>24.0</td>\n",
       "    </tr>\n",
       "  </tbody>\n",
       "</table>\n",
       "<p>3640 rows × 2 columns</p>\n",
       "</div>"
      ],
      "text/plain": [
       "      const  Compras\n",
       "0       1.0    435.0\n",
       "1       1.0    803.0\n",
       "2       1.0    785.0\n",
       "3       1.0    112.0\n",
       "4       1.0    530.0\n",
       "...     ...      ...\n",
       "3635    1.0   2493.0\n",
       "3636    1.0      1.0\n",
       "3637    1.0     46.0\n",
       "3638    1.0     55.0\n",
       "3639    1.0     24.0\n",
       "\n",
       "[3640 rows x 2 columns]"
      ]
     },
     "execution_count": 6,
     "metadata": {},
     "output_type": "execute_result"
    }
   ],
   "source": [
    "x = sm.add_constant(df['Compras'])\n",
    "y = df['Ventas']\n",
    "print(x.shape)\n",
    "print(y.shape)\n",
    "x"
   ]
  },
  {
   "cell_type": "code",
   "execution_count": 7,
   "id": "c0076e1e",
   "metadata": {},
   "outputs": [
    {
     "name": "stdout",
     "output_type": "stream",
     "text": [
      "(2912, 2)\n",
      "(728, 2)\n",
      "(2912,)\n",
      "(728,)\n"
     ]
    }
   ],
   "source": [
    "#Split data Train y Test\n",
    "x_train,x_test,y_train,y_test = train_test_split(x,y,train_size=0.80,test_size=0.20,random_state=100)\n",
    "print(x_train.shape)\n",
    "print(x_test.shape)\n",
    "print(y_train.shape)\n",
    "print(y_test.shape)"
   ]
  },
  {
   "cell_type": "code",
   "execution_count": 8,
   "id": "0d68e0b4",
   "metadata": {},
   "outputs": [],
   "source": [
    "compra_venta = sm.OLS(y_train,x_train).fit()"
   ]
  },
  {
   "cell_type": "code",
   "execution_count": 10,
   "id": "a310331c",
   "metadata": {},
   "outputs": [
    {
     "name": "stdout",
     "output_type": "stream",
     "text": [
      "const     -1.462021\n",
      "Compras    0.958147\n",
      "dtype: float64\n"
     ]
    }
   ],
   "source": [
    "print(compra_venta.params)"
   ]
  },
  {
   "cell_type": "code",
   "execution_count": 11,
   "id": "34c7aa54",
   "metadata": {},
   "outputs": [
    {
     "data": {
      "text/html": [
       "<table class=\"simpletable\">\n",
       "<tr>\n",
       "        <td>Model:</td>               <td>OLS</td>         <td>Adj. R-squared:</td>      <td>0.998</td>  \n",
       "</tr>\n",
       "<tr>\n",
       "  <td>Dependent Variable:</td>      <td>Ventas</td>             <td>AIC:</td>         <td>33485.3762</td>\n",
       "</tr>\n",
       "<tr>\n",
       "         <td>Date:</td>        <td>2022-09-05 18:51</td>        <td>BIC:</td>         <td>33497.3293</td>\n",
       "</tr>\n",
       "<tr>\n",
       "   <td>No. Observations:</td>        <td>2912</td>         <td>Log-Likelihood:</td>     <td>-16741.</td> \n",
       "</tr>\n",
       "<tr>\n",
       "       <td>Df Model:</td>              <td>1</td>           <td>F-statistic:</td>      <td>1.934e+06</td>\n",
       "</tr>\n",
       "<tr>\n",
       "     <td>Df Residuals:</td>          <td>2910</td>       <td>Prob (F-statistic):</td>    <td>0.00</td>   \n",
       "</tr>\n",
       "<tr>\n",
       "      <td>R-squared:</td>            <td>0.998</td>            <td>Scale:</td>          <td>5770.6</td>  \n",
       "</tr>\n",
       "</table>\n",
       "<table class=\"simpletable\">\n",
       "<tr>\n",
       "     <td></td>      <th>Coef.</th>  <th>Std.Err.</th>     <th>t</th>      <th>P>|t|</th> <th>[0.025</th>  <th>0.975]</th>\n",
       "</tr>\n",
       "<tr>\n",
       "  <th>const</th>   <td>-1.4620</td>  <td>1.4224</td>   <td>-1.0278</td>  <td>0.3041</td> <td>-4.2510</td> <td>1.3270</td>\n",
       "</tr>\n",
       "<tr>\n",
       "  <th>Compras</th> <td>0.9581</td>   <td>0.0007</td>  <td>1390.7217</td> <td>0.0000</td> <td>0.9568</td>  <td>0.9595</td>\n",
       "</tr>\n",
       "</table>\n",
       "<table class=\"simpletable\">\n",
       "<tr>\n",
       "     <td>Omnibus:</td>    <td>3705.924</td>  <td>Durbin-Watson:</td>       <td>2.008</td>   \n",
       "</tr>\n",
       "<tr>\n",
       "  <td>Prob(Omnibus):</td>   <td>0.000</td>  <td>Jarque-Bera (JB):</td> <td>12351331.045</td>\n",
       "</tr>\n",
       "<tr>\n",
       "       <td>Skew:</td>      <td>-5.774</td>      <td>Prob(JB):</td>         <td>0.000</td>   \n",
       "</tr>\n",
       "<tr>\n",
       "     <td>Kurtosis:</td>    <td>321.847</td>  <td>Condition No.:</td>       <td>2086</td>    \n",
       "</tr>\n",
       "</table>"
      ],
      "text/plain": [
       "<class 'statsmodels.iolib.summary2.Summary'>\n",
       "\"\"\"\n",
       "                  Results: Ordinary least squares\n",
       "===================================================================\n",
       "Model:              OLS              Adj. R-squared:     0.998     \n",
       "Dependent Variable: Ventas           AIC:                33485.3762\n",
       "Date:               2022-09-05 18:51 BIC:                33497.3293\n",
       "No. Observations:   2912             Log-Likelihood:     -16741.   \n",
       "Df Model:           1                F-statistic:        1.934e+06 \n",
       "Df Residuals:       2910             Prob (F-statistic): 0.00      \n",
       "R-squared:          0.998            Scale:              5770.6    \n",
       "---------------------------------------------------------------------\n",
       "            Coef.    Std.Err.       t       P>|t|     [0.025   0.975]\n",
       "---------------------------------------------------------------------\n",
       "const      -1.4620     1.4224     -1.0278   0.3041   -4.2510   1.3270\n",
       "Compras     0.9581     0.0007   1390.7217   0.0000    0.9568   0.9595\n",
       "-------------------------------------------------------------------\n",
       "Omnibus:            3705.924     Durbin-Watson:        2.008       \n",
       "Prob(Omnibus):      0.000        Jarque-Bera (JB):     12351331.045\n",
       "Skew:               -5.774       Prob(JB):             0.000       \n",
       "Kurtosis:           321.847      Condition No.:        2086        \n",
       "===================================================================\n",
       "* The condition number is large (2e+03). This might indicate\n",
       "strong multicollinearity or other numerical problems.\n",
       "\"\"\""
      ]
     },
     "execution_count": 11,
     "metadata": {},
     "output_type": "execute_result"
    }
   ],
   "source": [
    "compra_venta.summary2()"
   ]
  },
  {
   "cell_type": "code",
   "execution_count": 12,
   "id": "015dcdd1",
   "metadata": {},
   "outputs": [],
   "source": [
    "y_pred_test = compra_venta.predict(x_test)\n",
    "y_pred_train = compra_venta.predict(x_train)"
   ]
  },
  {
   "cell_type": "code",
   "execution_count": 16,
   "id": "637a348f",
   "metadata": {},
   "outputs": [
    {
     "data": {
      "text/plain": [
       "0.9984976898450656"
      ]
     },
     "execution_count": 16,
     "metadata": {},
     "output_type": "execute_result"
    }
   ],
   "source": [
    "np.abs(r2_score(y_train,y_pred_train))"
   ]
  },
  {
   "cell_type": "code",
   "execution_count": 19,
   "id": "e60a6e9e",
   "metadata": {},
   "outputs": [
    {
     "data": {
      "text/plain": [
       "75.93852496652276"
      ]
     },
     "execution_count": 19,
     "metadata": {},
     "output_type": "execute_result"
    }
   ],
   "source": [
    "np.sqrt(mean_squared_error(y_train,y_pred_train))"
   ]
  },
  {
   "cell_type": "code",
   "execution_count": 27,
   "id": "ed86c707",
   "metadata": {},
   "outputs": [
    {
     "data": {
      "text/plain": [
       "Text(0, 0.5, 'Predicted')"
      ]
     },
     "execution_count": 27,
     "metadata": {},
     "output_type": "execute_result"
    },
    {
     "data": {
      "image/png": "[encoded data removed]",
      "text/plain": [
       "<Figure size 1080x720 with 1 Axes>"
      ]
     },
     "metadata": {
      "needs_background": "light"
     },
     "output_type": "display_data"
    }
   ],
   "source": [
    "plt.figure(figsize=(15,10))\n",
    "plt.scatter(y_train,y_pred_train,c='blue')\n",
    "plt.plot([y_train.min(),y_train.max()],[y_train.min(),y_train.max()],'k--',c='red',lw=3)\n",
    "plt.xlabel('Actual')\n",
    "plt.ylabel('Predicted')"
   ]
  },
  {
   "cell_type": "code",
   "execution_count": 36,
   "id": "d5d98bdd",
   "metadata": {},
   "outputs": [
    {
     "data": {
      "text/html": [
       "<div>\n",
       "<style scoped>\n",
       "    .dataframe tbody tr th:only-of-type {\n",
       "        vertical-align: middle;\n",
       "    }\n",
       "\n",
       "    .dataframe tbody tr th {\n",
       "        vertical-align: top;\n",
       "    }\n",
       "\n",
       "    .dataframe thead th {\n",
       "        text-align: right;\n",
       "    }\n",
       "</style>\n",
       "<table border=\"1\" class=\"dataframe\">\n",
       "  <thead>\n",
       "    <tr style=\"text-align: right;\">\n",
       "      <th></th>\n",
       "      <th>Actual Value</th>\n",
       "      <th>Predicted Value</th>\n",
       "      <th>Difference</th>\n",
       "    </tr>\n",
       "  </thead>\n",
       "  <tbody>\n",
       "    <tr>\n",
       "      <th>1283</th>\n",
       "      <td>9.0</td>\n",
       "      <td>11.952038</td>\n",
       "      <td>-2.952038</td>\n",
       "    </tr>\n",
       "    <tr>\n",
       "      <th>3004</th>\n",
       "      <td>70.0</td>\n",
       "      <td>60.817540</td>\n",
       "      <td>9.182460</td>\n",
       "    </tr>\n",
       "    <tr>\n",
       "      <th>562</th>\n",
       "      <td>3471.0</td>\n",
       "      <td>3440.202310</td>\n",
       "      <td>30.797690</td>\n",
       "    </tr>\n",
       "    <tr>\n",
       "      <th>1273</th>\n",
       "      <td>14.0</td>\n",
       "      <td>40.696451</td>\n",
       "      <td>-26.696451</td>\n",
       "    </tr>\n",
       "    <tr>\n",
       "      <th>2956</th>\n",
       "      <td>24.0</td>\n",
       "      <td>22.491656</td>\n",
       "      <td>1.508344</td>\n",
       "    </tr>\n",
       "    <tr>\n",
       "      <th>299</th>\n",
       "      <td>6809.0</td>\n",
       "      <td>7076.370498</td>\n",
       "      <td>-267.370498</td>\n",
       "    </tr>\n",
       "    <tr>\n",
       "      <th>2409</th>\n",
       "      <td>18.0</td>\n",
       "      <td>14.826480</td>\n",
       "      <td>3.173520</td>\n",
       "    </tr>\n",
       "    <tr>\n",
       "      <th>1122</th>\n",
       "      <td>62.0</td>\n",
       "      <td>63.691981</td>\n",
       "      <td>-1.691981</td>\n",
       "    </tr>\n",
       "    <tr>\n",
       "      <th>2994</th>\n",
       "      <td>10.0</td>\n",
       "      <td>17.700921</td>\n",
       "      <td>-7.700921</td>\n",
       "    </tr>\n",
       "    <tr>\n",
       "      <th>606</th>\n",
       "      <td>253.0</td>\n",
       "      <td>205.497750</td>\n",
       "      <td>47.502250</td>\n",
       "    </tr>\n",
       "    <tr>\n",
       "      <th>583</th>\n",
       "      <td>1.0</td>\n",
       "      <td>-0.503874</td>\n",
       "      <td>1.503874</td>\n",
       "    </tr>\n",
       "    <tr>\n",
       "      <th>2844</th>\n",
       "      <td>15.0</td>\n",
       "      <td>13.868333</td>\n",
       "      <td>1.131667</td>\n",
       "    </tr>\n",
       "    <tr>\n",
       "      <th>1555</th>\n",
       "      <td>11.0</td>\n",
       "      <td>10.993891</td>\n",
       "      <td>0.006109</td>\n",
       "    </tr>\n",
       "    <tr>\n",
       "      <th>1339</th>\n",
       "      <td>5.0</td>\n",
       "      <td>4.286862</td>\n",
       "      <td>0.713138</td>\n",
       "    </tr>\n",
       "    <tr>\n",
       "      <th>836</th>\n",
       "      <td>17.0</td>\n",
       "      <td>18.659068</td>\n",
       "      <td>-1.659068</td>\n",
       "    </tr>\n",
       "    <tr>\n",
       "      <th>1053</th>\n",
       "      <td>107.0</td>\n",
       "      <td>117.348218</td>\n",
       "      <td>-10.348218</td>\n",
       "    </tr>\n",
       "    <tr>\n",
       "      <th>3184</th>\n",
       "      <td>100.0</td>\n",
       "      <td>73.273452</td>\n",
       "      <td>26.726548</td>\n",
       "    </tr>\n",
       "    <tr>\n",
       "      <th>2537</th>\n",
       "      <td>5.0</td>\n",
       "      <td>2.370567</td>\n",
       "      <td>2.629433</td>\n",
       "    </tr>\n",
       "    <tr>\n",
       "      <th>472</th>\n",
       "      <td>35.0</td>\n",
       "      <td>28.240539</td>\n",
       "      <td>6.759461</td>\n",
       "    </tr>\n",
       "    <tr>\n",
       "      <th>2455</th>\n",
       "      <td>3.0</td>\n",
       "      <td>0.454273</td>\n",
       "      <td>2.545727</td>\n",
       "    </tr>\n",
       "    <tr>\n",
       "      <th>989</th>\n",
       "      <td>2.0</td>\n",
       "      <td>1.412420</td>\n",
       "      <td>0.587580</td>\n",
       "    </tr>\n",
       "    <tr>\n",
       "      <th>1035</th>\n",
       "      <td>6.0</td>\n",
       "      <td>6.203156</td>\n",
       "      <td>-0.203156</td>\n",
       "    </tr>\n",
       "    <tr>\n",
       "      <th>1565</th>\n",
       "      <td>1.0</td>\n",
       "      <td>0.454273</td>\n",
       "      <td>0.545727</td>\n",
       "    </tr>\n",
       "    <tr>\n",
       "      <th>3507</th>\n",
       "      <td>31.0</td>\n",
       "      <td>35.905715</td>\n",
       "      <td>-4.905715</td>\n",
       "    </tr>\n",
       "    <tr>\n",
       "      <th>641</th>\n",
       "      <td>1.0</td>\n",
       "      <td>0.454273</td>\n",
       "      <td>0.545727</td>\n",
       "    </tr>\n",
       "  </tbody>\n",
       "</table>\n",
       "</div>"
      ],
      "text/plain": [
       "      Actual Value  Predicted Value  Difference\n",
       "1283           9.0        11.952038   -2.952038\n",
       "3004          70.0        60.817540    9.182460\n",
       "562         3471.0      3440.202310   30.797690\n",
       "1273          14.0        40.696451  -26.696451\n",
       "2956          24.0        22.491656    1.508344\n",
       "299         6809.0      7076.370498 -267.370498\n",
       "2409          18.0        14.826480    3.173520\n",
       "1122          62.0        63.691981   -1.691981\n",
       "2994          10.0        17.700921   -7.700921\n",
       "606          253.0       205.497750   47.502250\n",
       "583            1.0        -0.503874    1.503874\n",
       "2844          15.0        13.868333    1.131667\n",
       "1555          11.0        10.993891    0.006109\n",
       "1339           5.0         4.286862    0.713138\n",
       "836           17.0        18.659068   -1.659068\n",
       "1053         107.0       117.348218  -10.348218\n",
       "3184         100.0        73.273452   26.726548\n",
       "2537           5.0         2.370567    2.629433\n",
       "472           35.0        28.240539    6.759461\n",
       "2455           3.0         0.454273    2.545727\n",
       "989            2.0         1.412420    0.587580\n",
       "1035           6.0         6.203156   -0.203156\n",
       "1565           1.0         0.454273    0.545727\n",
       "3507          31.0        35.905715   -4.905715\n",
       "641            1.0         0.454273    0.545727"
      ]
     },
     "execution_count": 36,
     "metadata": {},
     "output_type": "execute_result"
    }
   ],
   "source": [
    "pred_y_df = pd.DataFrame({'Actual Value':y_train, 'Predicted Value':y_pred_train, 'Difference': y_train-y_pred_train})\n",
    "pred_y_df[0:25]"
   ]
  }
 ],
 "metadata": {
  "kernelspec": {
   "display_name": "Python 3 (ipykernel)",
   "language": "python",
   "name": "python3"
  },
  "language_info": {
   "codemirror_mode": {
    "name": "ipython",
    "version": 3
   },
   "file_extension": ".py",
   "mimetype": "text/x-python",
   "name": "python",
   "nbconvert_exporter": "python",
   "pygments_lexer": "ipython3",
   "version": "3.9.12"
  }
 },
 "nbformat": 4,
 "nbformat_minor": 5
}
